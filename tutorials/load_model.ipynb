{
 "cells": [
  {
   "cell_type": "code",
   "execution_count": 22,
   "metadata": {},
   "outputs": [
    {
     "name": "stdout",
     "output_type": "stream",
     "text": [
      "/\n"
     ]
    }
   ],
   "source": [
    "import torch\n",
    "import pandas as pd\n",
    "import json\n",
    "import os\n",
    "print(os.getcwd())\n",
    "# from .stratification.classification.models import PyTorchResNet\n",
    "from stratification.harness import GEORGEHarness\n",
    "# from .stratification.harness import GEORGEHarness\n",
    "# from stratification.utils.utils import set_seed, init_cuda\n",
    "from stratification.utils.parse_args import get_config\n",
    "# from stratification.cluster.models.cluster import GaussianMixture\n",
    "# from stratification.cluster.models.reduction import UMAPReducer"
   ]
  },
  {
   "cell_type": "code",
   "execution_count": 23,
   "metadata": {},
   "outputs": [
    {
     "name": "stdout",
     "output_type": "stream",
     "text": [
      ".\n",
      ".\n"
     ]
    },
    {
     "ename": "FileNotFoundError",
     "evalue": "[Errno 2] No such file or directory: 'configs/celeba_george_config.json'",
     "output_type": "error",
     "traceback": [
      "\u001b[0;31m---------------------------------------------------------------------------\u001b[0m",
      "\u001b[0;31mFileNotFoundError\u001b[0m                         Traceback (most recent call last)",
      "\u001b[1;32m/Users/Jen/Documents/UT Austin/Research/hidden-stratification/tutorials/load_model.ipynb Cell 2\u001b[0m line \u001b[0;36m9\n\u001b[1;32m      <a href='vscode-notebook-cell:/Users/Jen/Documents/UT%20Austin/Research/hidden-stratification/tutorials/load_model.ipynb#W1sZmlsZQ%3D%3D?line=5'>6</a>\u001b[0m \u001b[39mprint\u001b[39m(os\u001b[39m.\u001b[39mcurdir)\n\u001b[1;32m      <a href='vscode-notebook-cell:/Users/Jen/Documents/UT%20Austin/Research/hidden-stratification/tutorials/load_model.ipynb#W1sZmlsZQ%3D%3D?line=7'>8</a>\u001b[0m REPO_DIR \u001b[39m=\u001b[39m os\u001b[39m.\u001b[39mgetcwd()\n\u001b[0;32m----> <a href='vscode-notebook-cell:/Users/Jen/Documents/UT%20Austin/Research/hidden-stratification/tutorials/load_model.ipynb#W1sZmlsZQ%3D%3D?line=8'>9</a>\u001b[0m \u001b[39mwith\u001b[39;00m \u001b[39mopen\u001b[39;49m(\u001b[39m'\u001b[39;49m\u001b[39mconfigs/celeba_george_config.json\u001b[39;49m\u001b[39m'\u001b[39;49m, \u001b[39m'\u001b[39;49m\u001b[39mr\u001b[39;49m\u001b[39m'\u001b[39;49m) \u001b[39mas\u001b[39;00m f:\n\u001b[1;32m     <a href='vscode-notebook-cell:/Users/Jen/Documents/UT%20Austin/Research/hidden-stratification/tutorials/load_model.ipynb#W1sZmlsZQ%3D%3D?line=9'>10</a>\u001b[0m     config \u001b[39m=\u001b[39m json\u001b[39m.\u001b[39mdumps(json\u001b[39m.\u001b[39mload(f))\n\u001b[1;32m     <a href='vscode-notebook-cell:/Users/Jen/Documents/UT%20Austin/Research/hidden-stratification/tutorials/load_model.ipynb#W1sZmlsZQ%3D%3D?line=10'>11</a>\u001b[0m config \u001b[39m=\u001b[39m get_config([config])\n",
      "File \u001b[0;32m/usr/local/lib/python3.10/site-packages/IPython/core/interactiveshell.py:282\u001b[0m, in \u001b[0;36m_modified_open\u001b[0;34m(file, *args, **kwargs)\u001b[0m\n\u001b[1;32m    275\u001b[0m \u001b[39mif\u001b[39;00m file \u001b[39min\u001b[39;00m {\u001b[39m0\u001b[39m, \u001b[39m1\u001b[39m, \u001b[39m2\u001b[39m}:\n\u001b[1;32m    276\u001b[0m     \u001b[39mraise\u001b[39;00m \u001b[39mValueError\u001b[39;00m(\n\u001b[1;32m    277\u001b[0m         \u001b[39mf\u001b[39m\u001b[39m\"\u001b[39m\u001b[39mIPython won\u001b[39m\u001b[39m'\u001b[39m\u001b[39mt let you open fd=\u001b[39m\u001b[39m{\u001b[39;00mfile\u001b[39m}\u001b[39;00m\u001b[39m by default \u001b[39m\u001b[39m\"\u001b[39m\n\u001b[1;32m    278\u001b[0m         \u001b[39m\"\u001b[39m\u001b[39mas it is likely to crash IPython. If you know what you are doing, \u001b[39m\u001b[39m\"\u001b[39m\n\u001b[1;32m    279\u001b[0m         \u001b[39m\"\u001b[39m\u001b[39myou can use builtins\u001b[39m\u001b[39m'\u001b[39m\u001b[39m open.\u001b[39m\u001b[39m\"\u001b[39m\n\u001b[1;32m    280\u001b[0m     )\n\u001b[0;32m--> 282\u001b[0m \u001b[39mreturn\u001b[39;00m io_open(file, \u001b[39m*\u001b[39;49margs, \u001b[39m*\u001b[39;49m\u001b[39m*\u001b[39;49mkwargs)\n",
      "\u001b[0;31mFileNotFoundError\u001b[0m: [Errno 2] No such file or directory: 'configs/celeba_george_config.json'"
     ]
    }
   ],
   "source": [
    "# import os\n",
    "\n",
    "print(os.curdir)\n",
    "\n",
    "# os.chdir('../')\n",
    "print(os.curdir)\n",
    "\n",
    "REPO_DIR = os.getcwd()\n",
    "with open('configs/celeba_george_config.json', 'r') as f:\n",
    "    config = json.dumps(json.load(f))\n",
    "config = get_config([config])\n",
    "\n",
    "use_cuda_if_available = False  # change to True if you want to use CUDA\n",
    "use_cuda = use_cuda_if_available and torch.cuda.is_available()\n",
    "harness = GEORGEHarness(config, use_cuda=use_cuda, log_format='simple')\n",
    "dataloaders = harness.get_dataloaders(config, mode='erm')\n",
    "num_classes = dataloaders['train'].dataset.get_num_classes('superclass')\n",
    "model = harness.get_nn_model(config, num_classes=num_classes, mode='erm')\n",
    "\n",
    "model.load_state_dict(model = torch.load('/Users/Jen/Documents/UT Austin/Research/hidden-stratification/stratification/checkpoints/celebA/run_2023-11-04_11-48-41_039bb114/erm_2023-11-04_11-49-03_b5f493eb/outputs.pt'))\n",
    "# model = torch.load('/Users/Jen/Documents/UT Austin/Research/hidden-stratification/stratification/checkpoints/celebA/run_2023-11-04_11-48-41_039bb114/erm_2023-11-04_11-49-03_b5f493eb/outputs.pt')\n",
    "model.eval()\n",
    "\n",
    "print(model)\n",
    "\n",
    "\n",
    "# config = get_config()\n",
    "# use_cuda = config['use_cuda'] and torch.cuda.is_available()\n",
    "# set_seed(config['seed'], use_cuda)  # set seeds for reproducibility\n",
    "# init_cuda(config['deterministic'], config['allow_multigpu'])\n",
    "\n",
    "# torch.multiprocessing.set_sharing_strategy('file_system')\n",
    "# harness = GEORGEHarness(config, use_cuda=use_cuda)\n",
    "# harness.save_full_config(config)\n",
    "\n",
    "# dataloaders = harness.get_dataloaders(config, mode='erm')\n",
    "# num_classes = dataloaders['train'].dataset.get_num_classes('superclass')\n",
    "# model = harness.get_nn_model(config, num_classes=num_classes, mode='erm')\n",
    "\n",
    "\n",
    "# model = PyTorchResNet()\n",
    "# model.load_state_dict(state_dict['train']['activations'])"
   ]
  },
  {
   "cell_type": "code",
   "execution_count": 12,
   "metadata": {},
   "outputs": [
    {
     "ename": "NameError",
     "evalue": "name 'model' is not defined",
     "output_type": "error",
     "traceback": [
      "\u001b[0;31m---------------------------------------------------------------------------\u001b[0m",
      "\u001b[0;31mNameError\u001b[0m                                 Traceback (most recent call last)",
      "\u001b[1;32m/Users/Jen/Documents/UT Austin/Research/hidden-stratification/tutorials/load_model.ipynb Cell 3\u001b[0m line \u001b[0;36m1\n\u001b[0;32m----> <a href='vscode-notebook-cell:/Users/Jen/Documents/UT%20Austin/Research/hidden-stratification/tutorials/load_model.ipynb#X10sZmlsZQ%3D%3D?line=0'>1</a>\u001b[0m \u001b[39mprint\u001b[39m(model)\n",
      "\u001b[0;31mNameError\u001b[0m: name 'model' is not defined"
     ]
    }
   ],
   "source": [
    "print(model)"
   ]
  },
  {
   "cell_type": "code",
   "execution_count": null,
   "metadata": {},
   "outputs": [],
   "source": []
  },
  {
   "cell_type": "code",
   "execution_count": 12,
   "metadata": {},
   "outputs": [
    {
     "ename": "AttributeError",
     "evalue": "'dict' object has no attribute 'forward'",
     "output_type": "error",
     "traceback": [
      "\u001b[0;31m---------------------------------------------------------------------------\u001b[0m",
      "\u001b[0;31mAttributeError\u001b[0m                            Traceback (most recent call last)",
      "\u001b[1;32m/Users/Jen/Documents/UT Austin/Research/hidden-stratification/load_model.ipynb Cell 3\u001b[0m line \u001b[0;36m1\n\u001b[0;32m----> <a href='vscode-notebook-cell:/Users/Jen/Documents/UT%20Austin/Research/hidden-stratification/load_model.ipynb#W5sZmlsZQ%3D%3D?line=0'>1</a>\u001b[0m \u001b[39mprint\u001b[39m(model\u001b[39m.\u001b[39;49mforward())\n\u001b[1;32m      <a href='vscode-notebook-cell:/Users/Jen/Documents/UT%20Austin/Research/hidden-stratification/load_model.ipynb#W5sZmlsZQ%3D%3D?line=1'>2</a>\u001b[0m \u001b[39mprint\u001b[39m(model[\u001b[39m'\u001b[39m\u001b[39mtest\u001b[39m\u001b[39m'\u001b[39m][\u001b[39m'\u001b[39m\u001b[39mactivations\u001b[39m\u001b[39m'\u001b[39m]\u001b[39m.\u001b[39mshape)\n",
      "\u001b[0;31mAttributeError\u001b[0m: 'dict' object has no attribute 'forward'"
     ]
    }
   ],
   "source": [
    "print(model.forward())\n",
    "print(model['test']['activations'].shape)"
   ]
  },
  {
   "cell_type": "code",
   "execution_count": null,
   "metadata": {},
   "outputs": [],
   "source": [
    "# df = pd.DataFrame(data, columns=['id', 1, 2, 3, 4, 5]) # n last layers"
   ]
  },
  {
   "cell_type": "code",
   "execution_count": null,
   "metadata": {},
   "outputs": [],
   "source": [
    "attrs_df = pd.read_csv(os.path.join(self.root, 'celebA', 'list_attr_celeba.csv'),\n",
    "                               delim_whitespace=True)\n",
    "\n",
    "# Split out filenames and attribute names\n",
    "self.data_dir = os.path.join(self.root, 'celebA', 'img_align_celeba')\n",
    "filename_array = attrs_df['image_id'].values\n",
    "attrs_df = attrs_df.drop(labels='image_id', axis='columns')\n",
    "attr_names = attrs_df.columns.copy()\n",
    "\n",
    "# Then cast attributes to numpy array and set them to 0 and 1\n",
    "# (originally, they're -1 and 1)\n",
    "attrs_df = attrs_df.values\n",
    "attrs_df[attrs_df == -1] = 0\n",
    "\n",
    "def attr_idx(attr_name):\n",
    "    return attr_names.get_loc(attr_name)\n",
    "\n",
    "# Get the y values\n",
    "target_idx = attr_idx(self.target_name)\n",
    "y_array = attrs_df[:, target_idx]\n",
    "self._num_supclasses = np.amax(y_array).item() + 1\n",
    "\n",
    "# Map the confounder attributes to a number 0,...,2^|confounder_idx|-1\n",
    "self.confounder_idx = [attr_idx(a) for a in self.confounder_names]\n",
    "confounders = attrs_df[:, self.confounder_idx]\n",
    "confounder_array = confounders @ np.power(\n",
    "    2, np.arange(len(self.confounder_idx)))\n",
    "\n",
    "# Map to groups\n",
    "self._num_subclasses = self._num_supclasses * \\\n",
    "    pow(2, len(self.confounder_idx))\n",
    "group_array = (y_array * (self._num_subclasses / 2) +\n",
    "                confounder_array).astype('int')\n",
    "\n",
    "# Read in train/val/test splits\n",
    "split_df = pd.read_csv(os.path.join(self.root, 'celebA', 'list_eval_partition.csv'),\n",
    "                        delim_whitespace=True)\n",
    "split_array = split_df['partition'].values\n",
    "split_dict = {'train': 0, 'val': 1, 'test': 2}\n",
    "split_indices = split_array == split_dict[self.split]\n",
    "\n",
    "X = filename_array[split_indices]\n",
    "Y_dict = {\n",
    "    'superclass': torch.tensor(y_array[split_indices]),\n",
    "    'true_subclass': torch.tensor(group_array[split_indices])\n",
    "}\n",
    "return X, Y_dict"
   ]
  },
  {
   "cell_type": "code",
   "execution_count": null,
   "metadata": {},
   "outputs": [],
   "source": []
  }
 ],
 "metadata": {
  "kernelspec": {
   "display_name": "Python 3",
   "language": "python",
   "name": "python3"
  },
  "language_info": {
   "codemirror_mode": {
    "name": "ipython",
    "version": 3
   },
   "file_extension": ".py",
   "mimetype": "text/x-python",
   "name": "python",
   "nbconvert_exporter": "python",
   "pygments_lexer": "ipython3",
   "version": "3.10.6"
  }
 },
 "nbformat": 4,
 "nbformat_minor": 2
}
